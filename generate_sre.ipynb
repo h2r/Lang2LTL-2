{
 "cells": [
  {
   "cell_type": "markdown",
   "metadata": {},
   "source": [
    "# Lang2LTL version 2"
   ]
  },
  {
   "cell_type": "markdown",
   "metadata": {},
   "source": [
    "## Prerequisite: Import libraries "
   ]
  },
  {
   "cell_type": "code",
   "execution_count": null,
   "metadata": {},
   "outputs": [],
   "source": [
    "import pandas as pd\n",
    "import json\n",
    "import random\n",
    "import os\n",
    "\n",
    "from rer import *"
   ]
  },
  {
   "cell_type": "markdown",
   "metadata": {},
   "source": []
  },
  {
   "cell_type": "markdown",
   "metadata": {},
   "source": [
    "## 1. Generate natural language commands/utterances"
   ]
  },
  {
   "cell_type": "markdown",
   "metadata": {},
   "source": [
    "### Load samples for utterances"
   ]
  },
  {
   "cell_type": "code",
   "execution_count": null,
   "metadata": {},
   "outputs": [],
   "source": [
    "# -- load samples of LTL utterances from a CSV file using Pandas library:\n",
    "ltl_samples = pd.read_csv(open('data/symbolic_batch12_noperm_pun.csv', 'r'))\n",
    "display(ltl_samples[:10])\n",
    "\n",
    "city_jsons = os.listdir('osm/')\n",
    "selected_city = random.choice(city_jsons)\n",
    "display(selected_city)\n",
    "\n",
    "# -- load a city's landmarks from a JSON file (obtained from OpenStreetMap):\n",
    "landmarks = json.load(open(f'osm/{selected_city}', 'r', encoding='utf8'))\n",
    "display(list(landmarks.keys()))\n",
    "\n",
    "# NOTE: several prepositions are taken from Kaiyu's paper (https://h2r.cs.brown.edu/wp-content/uploads/zheng2021spatial.pdf)\n",
    "# -- each key is the phrase describing the spatial relation\n",
    "# -- a key's corresponding value indicates the number of arguments it would take\n",
    "spatial_relations = [\n",
    "    {'between': 2},\n",
    "    {'in front of': 1},\n",
    "    {'behind': 1},\n",
    "    {'next to': 1},\n",
    "    {'adjacent to': 1},\n",
    "    {'opposite': 1},\n",
    "    {'near': 1},\n",
    "    {'left of': 1},\n",
    "    {'right of': 1},\n",
    "    {'at': 1},\n",
    "    {'north of': 1},\n",
    "    {'south of': 1},\n",
    "    {'east of': 1},\n",
    "    {'west of': 1},\n",
    "]\n",
    "\n",
    "# -- list of landmarks in the city\n",
    "landmarks = list(landmarks.keys())\n",
    "\n",
    "# -- list of objects to use as reference objects:\n",
    "generic_city_objects = [\n",
    "    'bench', 'statue', 'stairs', 'store', 'door', 'bus stop', 'gas station', 'coffee shop', \n",
    "    'bicycle rack', 'parking meter', 'parking spot', 'parking space', 'stop sign', \n",
    "]\n"
   ]
  },
  {
   "cell_type": "code",
   "execution_count": null,
   "metadata": {},
   "outputs": [],
   "source": [
    "# NOTE: this is Spot experiment specific content:\n",
    "\n",
    "selected_city = 'blackstone.json'\n",
    "\n",
    "# -- load a city's landmarks from a JSON file (obtained from OpenStreetMap):\n",
    "landmarks = json.load(open(f'osm/{selected_city}', 'r', encoding='utf8'))\n",
    "all_landmarks = list(landmarks.keys())\n",
    "\n",
    "landmarks_to_use = ['Wildflour', 'Garden Grille Cafe']\n",
    "for L in all_landmarks:\n",
    "    if L not in landmarks_to_use:\n",
    "        landmarks.pop(L)\n",
    "\n",
    "# -- transforming specific names of large landmarks into generic categorical names:\n",
    "landmarks['bakery'] = landmarks.pop('Wildflour')\n",
    "landmarks['restaurant'] = landmarks.pop('Garden Grille Cafe')\n",
    "\n",
    "# NOTE: below are the objects found in experiment location:\n",
    "generic_city_objects = ['bicycle rack', 'chair', 'car']\n",
    "\n",
    "landmarks = list(landmarks.keys())"
   ]
  },
  {
   "cell_type": "markdown",
   "metadata": {},
   "source": [
    "### Define function for generating utterances"
   ]
  },
  {
   "cell_type": "code",
   "execution_count": null,
   "metadata": {},
   "outputs": [],
   "source": [
    "generation_params = {\n",
    "\t'samples': ltl_samples, \n",
    "\t'landmarks': landmarks, \n",
    "\t'city_objects': generic_city_objects,\n",
    "\t'spatial_relations': spatial_relations\n",
    "}\n",
    "\n",
    "num_commands = 4\n",
    "\n",
    "# -- forcing minimum number of propositions to be 5, forcing all SREs for propositions:\n",
    "used_templates, utterances = generate_synthetic_command(generation_params, num_utterances=num_commands, min_props=2, force_sre=True)\n",
    "\n",
    "for N in range(num_commands):\n",
    "\tprint(f'{utterances[N]}\\n')"
   ]
  },
  {
   "cell_type": "markdown",
   "metadata": {},
   "source": [
    "## 2. Prompt LLM for spatial referring expressions"
   ]
  },
  {
   "cell_type": "code",
   "execution_count": null,
   "metadata": {},
   "outputs": [],
   "source": [
    "count = 0\n",
    "\n",
    "for command in utterances:\n",
    "    raw_output, parsed_output = referring_exp_recognition(command)\n",
    "\n",
    "    parsed_output['lifted_gtr'] = used_templates[count]\n",
    "\n",
    "    count += 1\n",
    "\n",
    "    print(f'Command: {command}\\n{json.dumps(parsed_output,indent=2)}')\n",
    "    # display(parsed_output['command'])\n",
    "    print(f\"Groundtruth matched?: {parsed_output['lifted_llm'] == parsed_output['lifted_gtr']}\" )\n",
    "    print(f\"-> LLM Lifted Translation: {parsed_output['lifted_llm']}\")\n",
    "    print(f\"-> Groundtruth Lifted Translation: {parsed_output['lifted_gtr']}\")\n"
   ]
  },
  {
   "cell_type": "code",
   "execution_count": null,
   "metadata": {},
   "outputs": [],
   "source": [
    "utterances = list(filter(None, [X.strip() for X in open('blackstone_commands.txt', 'r').readlines()]))\n",
    "\n",
    "print(utterances)\n",
    "\n",
    "count = 0\n",
    "\n",
    "all_llm_output = []\n",
    "\n",
    "for command in utterances:\n",
    "    raw_output, parsed_output = referring_exp_recognition(command)\n",
    "\n",
    "    # parsed_output['lifted_gtr'] = used_templates[count]\n",
    "\n",
    "    count += 1\n",
    "\n",
    "    print(f'Command: {command}\\n{json.dumps(parsed_output,indent=2)}')\n",
    "    # display(parsed_output['command'])\n",
    "    \n",
    "    all_llm_output.append(parsed_output)\n",
    "    \n",
    "json.dump(all_llm_output, open('blackstone_srer_output.json', 'w'))"
   ]
  }
 ],
 "metadata": {
  "kernelspec": {
   "display_name": "Python 3",
   "language": "python",
   "name": "python3"
  },
  "language_info": {
   "codemirror_mode": {
    "name": "ipython",
    "version": 3
   },
   "file_extension": ".py",
   "mimetype": "text/x-python",
   "name": "python",
   "nbconvert_exporter": "python",
   "pygments_lexer": "ipython3",
   "version": "3.9.12"
  }
 },
 "nbformat": 4,
 "nbformat_minor": 2
}
